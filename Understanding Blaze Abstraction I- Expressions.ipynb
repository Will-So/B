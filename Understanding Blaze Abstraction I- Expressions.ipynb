{
 "cells": [
  {
   "cell_type": "markdown",
   "metadata": {},
   "source": [
    "# Motivation "
   ]
  },
  {
   "cell_type": "markdown",
   "metadata": {},
   "source": [
    "## 2Design of Expressions in Blaze"
   ]
  },
  {
   "cell_type": "markdown",
   "metadata": {},
   "source": [
    "The class hierarchy of the `Add` expression in Blaze is shown below:\n",
    "\n",
    "![](https://dl.dropboxusercontent.com/u/97258109/Screens/S2850.png)"
   ]
  },
  {
   "cell_type": "markdown",
   "metadata": {},
   "source": [
    "## The Node"
   ]
  },
  {
   "cell_type": "markdown",
   "metadata": {},
   "source": [
    "The `Node` class represents a node in a tree. It is a base class for `Expr` and holds all tree traversal functions that are independent of tabular or array computation. Note that all of the special operations like `__add__` are not actually defined in the `Node` object except for as follows:\n",
    "\n",
    "```python\n",
    "def __rmul__(self, other):\n",
    "    return self._rmul(other)\n",
    "    \n",
    "def __add__(self, other):\n",
    "    return self._add(other)\n",
    "```\n",
    "\n",
    "So it is always the other function that is determining the action of the node tree. \n",
    "\n",
    "Method | Description\n",
    "-- | --\n",
    "`_leaves` | All nodes without inputs. Leaves are returned in order\n",
    "`_inputs, _args` | `_args` retrives the `slot` attributes and `_inputs` retrives the `__inputs__`. They will often be `_child`. `__inputs__` will also be a subset of `__slots__` because they are attributes as well. \n",
    "`path(a,b)` | Function that shows a path of nodes from a to b "
   ]
  },
  {
   "cell_type": "code",
   "execution_count": 4,
   "metadata": {
    "collapsed": false
   },
   "outputs": [],
   "source": [
    "from blaze.expr.core import Node"
   ]
  },
  {
   "cell_type": "markdown",
   "metadata": {},
   "source": [
    "```python\n",
    "class Node(object):\n",
    "...\n",
    "    __init__(self, *args, **kwargs):\n",
    "        assert frozenset(kwargs).issubset(self.__slots__)\n",
    "        \n",
    "        for slot, arg in zip(self.__slots__[1:], args):\n",
    "        #ignore the `self` argument. set the attribute to arg\n",
    "            setattr(self, slot, arg)\n",
    "\n",
    "        for key, value in kwargs.items():\n",
    "            setattr(self, key, value) ```"
   ]
  },
  {
   "cell_type": "markdown",
   "metadata": {},
   "source": [
    "`__slot__()` has not yet been defined in this object so we cannot call this object. It does, however, do some handling of the `slots` object.\n",
    "\n",
    "It also defines the `__hash__`, `_traverse`, and `_subs` function. "
   ]
  },
  {
   "cell_type": "code",
   "execution_count": 9,
   "metadata": {
    "collapsed": false
   },
   "outputs": [
    {
     "data": {
      "text/html": [
       "t.id * 4"
      ],
      "text/plain": [
       "t.id * 4"
      ]
     },
     "execution_count": 9,
     "metadata": {},
     "output_type": "execute_result"
    }
   ],
   "source": [
    "from blaze.expr import symbol\n",
    "t = symbol('t', 'var * {name: string, amount: int, id: int}')\n",
    "expr = t.amount * 3\n",
    "expr._subs({3: 4, 'amount': 'id'})"
   ]
  },
  {
   "cell_type": "code",
   "execution_count": 11,
   "metadata": {
    "collapsed": false
   },
   "outputs": [
    {
     "data": {
      "text/plain": [
       "blaze.expr.arithmetic.Mult"
      ]
     },
     "execution_count": 11,
     "metadata": {},
     "output_type": "execute_result"
    }
   ],
   "source": [
    "type(expr)"
   ]
  },
  {
   "cell_type": "code",
   "execution_count": 14,
   "metadata": {
    "collapsed": false
   },
   "outputs": [
    {
     "data": {
      "text/plain": [
       "(t.amount, (t,), (t, 'amount'))"
      ]
     },
     "execution_count": 14,
     "metadata": {},
     "output_type": "execute_result"
    }
   ],
   "source": [
    "from blaze import Symbol, Field\n",
    "t = Symbol('t', 'var * {id: int, name: string, amount: int}')\n",
    "amounts = Field(t, 'amount')\n",
    "amounts, amounts._inputs, amounts._args"
   ]
  },
  {
   "cell_type": "code",
   "execution_count": 19,
   "metadata": {
    "collapsed": false
   },
   "outputs": [
    {
     "data": {
      "text/plain": [
       "(23, 22)"
      ]
     },
     "execution_count": 19,
     "metadata": {},
     "output_type": "execute_result"
    }
   ],
   "source": [
    "import pandas as pd\n",
    "\n",
    "(23, ) + (22,)"
   ]
  },
  {
   "cell_type": "markdown",
   "metadata": {},
   "source": [
    "## Example of `path`"
   ]
  },
  {
   "cell_type": "markdown",
   "metadata": {},
   "source": [
    "Path provides a path of nodes from `a` to `b`. "
   ]
  },
  {
   "cell_type": "markdown",
   "metadata": {},
   "source": [
    "  ```python\n",
    "    >>> from blaze.expr import symbol\n",
    "    >>> t = symbol('t', 'var * {name: string, amount: int, id: int}')\n",
    "    >>> expr = t.amount.sum()\n",
    "    >>> list(path(expr, t))\n",
    "    [sum(t.amount), t.amount, t]```"
   ]
  },
  {
   "cell_type": "markdown",
   "metadata": {},
   "source": [
    "# Expressions.py"
   ]
  },
  {
   "cell_type": "markdown",
   "metadata": {},
   "source": [
    "This is the base class of all `Blaze` expressions such as `Join`, `Sort`, etc. There are also a number of important classes/functios here. \n",
    "\n",
    "| Class | Description \n",
    "-- | --\n",
    "Symbol | This is the leaf of a blaze expression. It inherets the `Expr` object. It's slots are `_name`, `dshape`, and `_token`. \n",
    "ElemWise | Parent of `Expr`. Used for Element wise operations. Only sets the dshape \n",
    "Field | This is a single field from an expression. Stored in the `_name` attribute. Based from elemwise. Allows us to get a single field via `points.x.dshape"
   ]
  },
  {
   "cell_type": "code",
   "execution_count": 25,
   "metadata": {
    "collapsed": false
   },
   "outputs": [
    {
     "data": {
      "text/plain": [
       "(blaze.expr.expressions.Field,\n",
       " dshape(\"5 * 3 * int32\"),\n",
       " datashape.coretypes.DataShape,\n",
       " None)"
      ]
     },
     "execution_count": 25,
     "metadata": {},
     "output_type": "execute_result"
    }
   ],
   "source": [
    "from blaze import symbol\n",
    "points = symbol('points', '5 * 3 * {x: int32, y: int32}')\n",
    "type(points.x), points.x.dshape, type(points.x.dshape), points._token"
   ]
  },
  {
   "cell_type": "markdown",
   "metadata": {},
   "source": [
    "## Expr object"
   ]
  },
  {
   "cell_type": "markdown",
   "metadata": {},
   "source": [
    "Base class of all expressions. "
   ]
  },
  {
   "cell_type": "markdown",
   "metadata": {},
   "source": [
    "# Misc "
   ]
  },
  {
   "cell_type": "markdown",
   "metadata": {},
   "source": [
    "The lower case operations work as follows\n",
    "\n",
    "```python\n",
    "@memoize(cache=_symbol_cache, key=_symbol_key)\n",
    "def symbol(name, dshape, token=None):\n",
    "    return Symbol(name, dshape, token=token)\n",
    "    \n",
    " ```"
   ]
  },
  {
   "cell_type": "markdown",
   "metadata": {},
   "source": [
    "# Interactive object "
   ]
  },
  {
   "cell_type": "markdown",
   "metadata": {},
   "source": [
    "`interactive.py` has `Data` function and `InteractiveSymbol` class. "
   ]
  },
  {
   "cell_type": "code",
   "execution_count": 1,
   "metadata": {
    "collapsed": true
   },
   "outputs": [],
   "source": [
    "from blaze import Data"
   ]
  },
  {
   "cell_type": "code",
   "execution_count": 4,
   "metadata": {
    "collapsed": false
   },
   "outputs": [],
   "source": [
    "DATA_DIR = '/Users/Will/Data/blaze_data/'\n",
    "df = Data('sqlite:////' + DATA_DIR + 'lahman2013.sqlite').Batting"
   ]
  },
  {
   "cell_type": "code",
   "execution_count": 11,
   "metadata": {
    "collapsed": false
   },
   "outputs": [
    {
     "data": {
      "text/html": [
       "<table border=\"1\" class=\"dataframe\">\n",
       "  <thead>\n",
       "    <tr style=\"text-align: right;\">\n",
       "      <th></th>\n",
       "      <th>playerID</th>\n",
       "      <th>yearID</th>\n",
       "      <th>stint</th>\n",
       "      <th>teamID</th>\n",
       "      <th>lgID</th>\n",
       "      <th>G</th>\n",
       "      <th>G_batting</th>\n",
       "      <th>AB</th>\n",
       "      <th>R</th>\n",
       "      <th>H</th>\n",
       "      <th>2B</th>\n",
       "      <th>3B</th>\n",
       "      <th>HR</th>\n",
       "      <th>RBI</th>\n",
       "      <th>SB</th>\n",
       "      <th>CS</th>\n",
       "      <th>BB</th>\n",
       "      <th>SO</th>\n",
       "      <th>IBB</th>\n",
       "      <th>HBP</th>\n",
       "      <th>SH</th>\n",
       "      <th>SF</th>\n",
       "      <th>GIDP</th>\n",
       "      <th>G_old</th>\n",
       "    </tr>\n",
       "  </thead>\n",
       "  <tbody>\n",
       "    <tr>\n",
       "      <th>0</th>\n",
       "      <td>aardsda01</td>\n",
       "      <td>2013</td>\n",
       "      <td>1</td>\n",
       "      <td>NYN</td>\n",
       "      <td>NL</td>\n",
       "      <td>43</td>\n",
       "      <td>43</td>\n",
       "      <td>0</td>\n",
       "      <td>0</td>\n",
       "      <td>0</td>\n",
       "      <td>0</td>\n",
       "      <td>0</td>\n",
       "      <td>0</td>\n",
       "      <td>0</td>\n",
       "      <td>0</td>\n",
       "      <td>0</td>\n",
       "      <td>0</td>\n",
       "      <td>0</td>\n",
       "      <td>0</td>\n",
       "      <td>0</td>\n",
       "      <td>0</td>\n",
       "      <td>0</td>\n",
       "      <td>0</td>\n",
       "      <td>NaN</td>\n",
       "    </tr>\n",
       "    <tr>\n",
       "      <th>1</th>\n",
       "      <td>abadfe01</td>\n",
       "      <td>2013</td>\n",
       "      <td>1</td>\n",
       "      <td>WAS</td>\n",
       "      <td>NL</td>\n",
       "      <td>39</td>\n",
       "      <td>39</td>\n",
       "      <td>0</td>\n",
       "      <td>0</td>\n",
       "      <td>0</td>\n",
       "      <td>0</td>\n",
       "      <td>0</td>\n",
       "      <td>0</td>\n",
       "      <td>0</td>\n",
       "      <td>0</td>\n",
       "      <td>0</td>\n",
       "      <td>0</td>\n",
       "      <td>0</td>\n",
       "      <td>0</td>\n",
       "      <td>0</td>\n",
       "      <td>0</td>\n",
       "      <td>0</td>\n",
       "      <td>0</td>\n",
       "      <td>NaN</td>\n",
       "    </tr>\n",
       "    <tr>\n",
       "      <th>2</th>\n",
       "      <td>abreuto01</td>\n",
       "      <td>2013</td>\n",
       "      <td>1</td>\n",
       "      <td>SFN</td>\n",
       "      <td>NL</td>\n",
       "      <td>53</td>\n",
       "      <td>53</td>\n",
       "      <td>138</td>\n",
       "      <td>21</td>\n",
       "      <td>37</td>\n",
       "      <td>12</td>\n",
       "      <td>3</td>\n",
       "      <td>2</td>\n",
       "      <td>14</td>\n",
       "      <td>0</td>\n",
       "      <td>2</td>\n",
       "      <td>6</td>\n",
       "      <td>33</td>\n",
       "      <td>1</td>\n",
       "      <td>1</td>\n",
       "      <td>1</td>\n",
       "      <td>1</td>\n",
       "      <td>5</td>\n",
       "      <td>NaN</td>\n",
       "    </tr>\n",
       "    <tr>\n",
       "      <th>3</th>\n",
       "      <td>ackledu01</td>\n",
       "      <td>2013</td>\n",
       "      <td>1</td>\n",
       "      <td>SEA</td>\n",
       "      <td>AL</td>\n",
       "      <td>113</td>\n",
       "      <td>113</td>\n",
       "      <td>384</td>\n",
       "      <td>40</td>\n",
       "      <td>97</td>\n",
       "      <td>18</td>\n",
       "      <td>2</td>\n",
       "      <td>4</td>\n",
       "      <td>31</td>\n",
       "      <td>2</td>\n",
       "      <td>3</td>\n",
       "      <td>37</td>\n",
       "      <td>72</td>\n",
       "      <td>1</td>\n",
       "      <td>1</td>\n",
       "      <td>4</td>\n",
       "      <td>1</td>\n",
       "      <td>6</td>\n",
       "      <td>NaN</td>\n",
       "    </tr>\n",
       "    <tr>\n",
       "      <th>4</th>\n",
       "      <td>adamsda02</td>\n",
       "      <td>2013</td>\n",
       "      <td>1</td>\n",
       "      <td>NYA</td>\n",
       "      <td>AL</td>\n",
       "      <td>43</td>\n",
       "      <td>43</td>\n",
       "      <td>140</td>\n",
       "      <td>10</td>\n",
       "      <td>27</td>\n",
       "      <td>5</td>\n",
       "      <td>1</td>\n",
       "      <td>2</td>\n",
       "      <td>13</td>\n",
       "      <td>0</td>\n",
       "      <td>0</td>\n",
       "      <td>9</td>\n",
       "      <td>43</td>\n",
       "      <td>0</td>\n",
       "      <td>2</td>\n",
       "      <td>1</td>\n",
       "      <td>0</td>\n",
       "      <td>4</td>\n",
       "      <td>NaN</td>\n",
       "    </tr>\n",
       "    <tr>\n",
       "      <th>5</th>\n",
       "      <td>adamsma01</td>\n",
       "      <td>2013</td>\n",
       "      <td>1</td>\n",
       "      <td>SLN</td>\n",
       "      <td>NL</td>\n",
       "      <td>108</td>\n",
       "      <td>108</td>\n",
       "      <td>296</td>\n",
       "      <td>46</td>\n",
       "      <td>84</td>\n",
       "      <td>14</td>\n",
       "      <td>0</td>\n",
       "      <td>17</td>\n",
       "      <td>51</td>\n",
       "      <td>0</td>\n",
       "      <td>1</td>\n",
       "      <td>23</td>\n",
       "      <td>80</td>\n",
       "      <td>0</td>\n",
       "      <td>0</td>\n",
       "      <td>0</td>\n",
       "      <td>0</td>\n",
       "      <td>9</td>\n",
       "      <td>NaN</td>\n",
       "    </tr>\n",
       "    <tr>\n",
       "      <th>6</th>\n",
       "      <td>adamsmi03</td>\n",
       "      <td>2013</td>\n",
       "      <td>1</td>\n",
       "      <td>PHI</td>\n",
       "      <td>NL</td>\n",
       "      <td>28</td>\n",
       "      <td>28</td>\n",
       "      <td>0</td>\n",
       "      <td>0</td>\n",
       "      <td>0</td>\n",
       "      <td>0</td>\n",
       "      <td>0</td>\n",
       "      <td>0</td>\n",
       "      <td>0</td>\n",
       "      <td>0</td>\n",
       "      <td>0</td>\n",
       "      <td>0</td>\n",
       "      <td>0</td>\n",
       "      <td>0</td>\n",
       "      <td>0</td>\n",
       "      <td>0</td>\n",
       "      <td>0</td>\n",
       "      <td>0</td>\n",
       "      <td>NaN</td>\n",
       "    </tr>\n",
       "    <tr>\n",
       "      <th>7</th>\n",
       "      <td>adducji02</td>\n",
       "      <td>2013</td>\n",
       "      <td>1</td>\n",
       "      <td>TEX</td>\n",
       "      <td>AL</td>\n",
       "      <td>17</td>\n",
       "      <td>17</td>\n",
       "      <td>31</td>\n",
       "      <td>2</td>\n",
       "      <td>8</td>\n",
       "      <td>1</td>\n",
       "      <td>0</td>\n",
       "      <td>0</td>\n",
       "      <td>0</td>\n",
       "      <td>2</td>\n",
       "      <td>0</td>\n",
       "      <td>3</td>\n",
       "      <td>9</td>\n",
       "      <td>0</td>\n",
       "      <td>0</td>\n",
       "      <td>0</td>\n",
       "      <td>0</td>\n",
       "      <td>0</td>\n",
       "      <td>NaN</td>\n",
       "    </tr>\n",
       "    <tr>\n",
       "      <th>8</th>\n",
       "      <td>adriaeh01</td>\n",
       "      <td>2013</td>\n",
       "      <td>1</td>\n",
       "      <td>SFN</td>\n",
       "      <td>NL</td>\n",
       "      <td>9</td>\n",
       "      <td>9</td>\n",
       "      <td>18</td>\n",
       "      <td>3</td>\n",
       "      <td>4</td>\n",
       "      <td>1</td>\n",
       "      <td>0</td>\n",
       "      <td>1</td>\n",
       "      <td>3</td>\n",
       "      <td>0</td>\n",
       "      <td>0</td>\n",
       "      <td>1</td>\n",
       "      <td>5</td>\n",
       "      <td>0</td>\n",
       "      <td>0</td>\n",
       "      <td>1</td>\n",
       "      <td>0</td>\n",
       "      <td>1</td>\n",
       "      <td>NaN</td>\n",
       "    </tr>\n",
       "    <tr>\n",
       "      <th>9</th>\n",
       "      <td>affelje01</td>\n",
       "      <td>2013</td>\n",
       "      <td>1</td>\n",
       "      <td>SFN</td>\n",
       "      <td>NL</td>\n",
       "      <td>39</td>\n",
       "      <td>39</td>\n",
       "      <td>0</td>\n",
       "      <td>0</td>\n",
       "      <td>0</td>\n",
       "      <td>0</td>\n",
       "      <td>0</td>\n",
       "      <td>0</td>\n",
       "      <td>0</td>\n",
       "      <td>0</td>\n",
       "      <td>0</td>\n",
       "      <td>0</td>\n",
       "      <td>0</td>\n",
       "      <td>0</td>\n",
       "      <td>0</td>\n",
       "      <td>0</td>\n",
       "      <td>0</td>\n",
       "      <td>0</td>\n",
       "      <td>NaN</td>\n",
       "    </tr>\n",
       "    <tr>\n",
       "      <th>10</th>\n",
       "      <td>alberma01</td>\n",
       "      <td>2013</td>\n",
       "      <td>1</td>\n",
       "      <td>CLE</td>\n",
       "      <td>AL</td>\n",
       "      <td>56</td>\n",
       "      <td>56</td>\n",
       "      <td>0</td>\n",
       "      <td>0</td>\n",
       "      <td>0</td>\n",
       "      <td>0</td>\n",
       "      <td>0</td>\n",
       "      <td>0</td>\n",
       "      <td>0</td>\n",
       "      <td>0</td>\n",
       "      <td>0</td>\n",
       "      <td>0</td>\n",
       "      <td>0</td>\n",
       "      <td>0</td>\n",
       "      <td>0</td>\n",
       "      <td>0</td>\n",
       "      <td>0</td>\n",
       "      <td>0</td>\n",
       "      <td>NaN</td>\n",
       "    </tr>\n",
       "  </tbody>\n",
       "</table>"
      ],
      "text/plain": [
       "     playerID  yearID  stint teamID lgID    G  G_batting   AB   R   H  ...    \\\n",
       "0   aardsda01    2013      1    NYN   NL   43         43    0   0   0  ...     \n",
       "1    abadfe01    2013      1    WAS   NL   39         39    0   0   0  ...     \n",
       "2   abreuto01    2013      1    SFN   NL   53         53  138  21  37  ...     \n",
       "3   ackledu01    2013      1    SEA   AL  113        113  384  40  97  ...     \n",
       "4   adamsda02    2013      1    NYA   AL   43         43  140  10  27  ...     \n",
       "5   adamsma01    2013      1    SLN   NL  108        108  296  46  84  ...     \n",
       "6   adamsmi03    2013      1    PHI   NL   28         28    0   0   0  ...     \n",
       "7   adducji02    2013      1    TEX   AL   17         17   31   2   8  ...     \n",
       "8   adriaeh01    2013      1    SFN   NL    9          9   18   3   4  ...     \n",
       "9   affelje01    2013      1    SFN   NL   39         39    0   0   0  ...     \n",
       "10  alberma01    2013      1    CLE   AL   56         56    0   0   0  ...     \n",
       "\n",
       "    SB  CS  BB  SO  IBB  HBP  SH  SF  GIDP  G_old  \n",
       "0    0   0   0   0    0    0   0   0     0    NaN  \n",
       "1    0   0   0   0    0    0   0   0     0    NaN  \n",
       "2    0   2   6  33    1    1   1   1     5    NaN  \n",
       "3    2   3  37  72    1    1   4   1     6    NaN  \n",
       "4    0   0   9  43    0    2   1   0     4    NaN  \n",
       "5    0   1  23  80    0    0   0   0     9    NaN  \n",
       "6    0   0   0   0    0    0   0   0     0    NaN  \n",
       "7    2   0   3   9    0    0   0   0     0    NaN  \n",
       "8    0   0   1   5    0    0   1   0     1    NaN  \n",
       "9    0   0   0   0    0    0   0   0     0    NaN  \n",
       "10   0   0   0   0    0    0   0   0     0    NaN  \n",
       "\n",
       "..."
      ]
     },
     "execution_count": 11,
     "metadata": {},
     "output_type": "execute_result"
    }
   ],
   "source": [
    "df[df.yearID > 2012]"
   ]
  },
  {
   "cell_type": "code",
   "execution_count": 12,
   "metadata": {
    "collapsed": false
   },
   "outputs": [
    {
     "data": {
      "text/plain": [
       "blaze.expr.expressions.Selection"
      ]
     },
     "execution_count": 12,
     "metadata": {},
     "output_type": "execute_result"
    }
   ],
   "source": [
    "type(df[df.yearID > 2012])"
   ]
  },
  {
   "cell_type": "code",
   "execution_count": 13,
   "metadata": {
    "collapsed": false
   },
   "outputs": [
    {
     "data": {
      "text/plain": [
       "blaze.expr.expressions.Slice"
      ]
     },
     "execution_count": 13,
     "metadata": {},
     "output_type": "execute_result"
    }
   ],
   "source": [
    "type(df[:5])"
   ]
  },
  {
   "cell_type": "code",
   "execution_count": 14,
   "metadata": {
    "collapsed": false
   },
   "outputs": [
    {
     "data": {
      "text/plain": [
       "Data:       Engine(sqlite://///Users/Will/Data/blaze_data/lahman2013.sqlite)\n",
       "Expr:       _3.Batting[:5]\n",
       "DataShape:  5 * {\n",
       "  playerID: ?string,\n",
       "  yearID: ?int32,\n",
       "  stint: ?int32,\n",
       "  teamID: ?string,\n",
       "  lgID: ?string,\n",
       "  G: ?int32,\n",
       "  ..."
      ]
     },
     "execution_count": 14,
     "metadata": {},
     "output_type": "execute_result"
    }
   ],
   "source": [
    "df[:5]"
   ]
  },
  {
   "cell_type": "markdown",
   "metadata": {},
   "source": [
    "## Data Object"
   ]
  },
  {
   "cell_type": "markdown",
   "metadata": {},
   "source": [
    "`blaze.interactive.Data(data, dshape=None, name=None, fields=None, columns=None, schema=None, **kwargs)`\n",
    "\n",
    "Presents a familar view onto a variety of forms of data. Provides interactive expeirnece to using Blaze's abstract expressions.\n",
    "\n",
    "`data` is an object with a `discover` and `compute` implementation. "
   ]
  },
  {
   "cell_type": "markdown",
   "metadata": {},
   "source": [
    "# Questions"
   ]
  },
  {
   "cell_type": "markdown",
   "metadata": {},
   "source": [
    "1. What does `_token` do? It really seems to do nothing"
   ]
  }
 ],
 "metadata": {
  "kernelspec": {
   "display_name": "Python 3",
   "language": "python",
   "name": "python3"
  },
  "language_info": {
   "codemirror_mode": {
    "name": "ipython",
    "version": 3
   },
   "file_extension": ".py",
   "mimetype": "text/x-python",
   "name": "python",
   "nbconvert_exporter": "python",
   "pygments_lexer": "ipython3",
   "version": "3.4.3"
  }
 },
 "nbformat": 4,
 "nbformat_minor": 0
}
