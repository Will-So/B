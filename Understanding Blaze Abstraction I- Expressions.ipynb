{
 "cells": [
  {
   "cell_type": "markdown",
   "metadata": {},
   "source": [
    "# Motivation "
   ]
  },
  {
   "cell_type": "markdown",
   "metadata": {},
   "source": [
    "## 2Design of Expressions in Blaze"
   ]
  },
  {
   "cell_type": "markdown",
   "metadata": {},
   "source": [
    "The class hierarchy of the `Add` expression in Blaze is shown below:\n",
    "\n",
    "![](https://dl.dropboxusercontent.com/u/97258109/Screens/S2850.png)"
   ]
  },
  {
   "cell_type": "markdown",
   "metadata": {},
   "source": [
    "## The Node"
   ]
  },
  {
   "cell_type": "markdown",
   "metadata": {},
   "source": [
    "The `Node` class represents a node in a tree. It is a base class for `Expr` and holds all tree traversal functions that are independent of tabular or array computation. Note that all of the special operations like `__add__` are not actually defined in the `Node` object except for as follows:\n",
    "\n",
    "```python\n",
    "def __rmul__(self, other):\n",
    "    return self._rmul(other)\n",
    "    \n",
    "def __add__(self, other):\n",
    "    return self._add(other)\n",
    "```\n",
    "\n",
    "So it is always the other function that is determining the action of the node tree. \n",
    "\n",
    "Method | Description\n",
    "-- | --\n",
    "`_leaves` | All nodes without inputs. Leaves are returned in order\n",
    "`_inputs, _args` | `_args` retrives the `slot` attributes and `_inputs` retrives the `__inputs__`. They will often be `_child`. `__inputs__` will also be a subset of `__slots__` because they are attributes as well. \n",
    "`path(a,b)` | Function that shows a path of nodes from a to b "
   ]
  },
  {
   "cell_type": "code",
   "execution_count": 4,
   "metadata": {
    "collapsed": false
   },
   "outputs": [],
   "source": [
    "from blaze.expr.core import Node"
   ]
  },
  {
   "cell_type": "markdown",
   "metadata": {},
   "source": [
    "```python\n",
    "class Node(object):\n",
    "...\n",
    "    __init__(self, *args, **kwargs):\n",
    "        assert frozenset(kwargs).issubset(self.__slots__)\n",
    "        \n",
    "        for slot, arg in zip(self.__slots__[1:], args):\n",
    "        #ignore the `self` argument. set the attribute to arg\n",
    "            setattr(self, slot, arg)\n",
    "\n",
    "        for key, value in kwargs.items():\n",
    "            setattr(self, key, value) ```"
   ]
  },
  {
   "cell_type": "markdown",
   "metadata": {},
   "source": [
    "`__slot__()` has not yet been defined in this object so we cannot call this object. It does, however, do some handling of the `slots` object.\n",
    "\n",
    "It also defines the `__hash__`, `_traverse`, and `_subs` function. "
   ]
  },
  {
   "cell_type": "code",
   "execution_count": 9,
   "metadata": {
    "collapsed": false
   },
   "outputs": [
    {
     "data": {
      "text/html": [
       "t.id * 4"
      ],
      "text/plain": [
       "t.id * 4"
      ]
     },
     "execution_count": 9,
     "metadata": {},
     "output_type": "execute_result"
    }
   ],
   "source": [
    "from blaze.expr import symbol\n",
    "t = symbol('t', 'var * {name: string, amount: int, id: int}')\n",
    "expr = t.amount * 3\n",
    "expr._subs({3: 4, 'amount': 'id'})"
   ]
  },
  {
   "cell_type": "code",
   "execution_count": 11,
   "metadata": {
    "collapsed": false
   },
   "outputs": [
    {
     "data": {
      "text/plain": [
       "blaze.expr.arithmetic.Mult"
      ]
     },
     "execution_count": 11,
     "metadata": {},
     "output_type": "execute_result"
    }
   ],
   "source": [
    "type(expr)"
   ]
  },
  {
   "cell_type": "code",
   "execution_count": 14,
   "metadata": {
    "collapsed": false
   },
   "outputs": [
    {
     "data": {
      "text/plain": [
       "(t.amount, (t,), (t, 'amount'))"
      ]
     },
     "execution_count": 14,
     "metadata": {},
     "output_type": "execute_result"
    }
   ],
   "source": [
    "from blaze import Symbol, Field\n",
    "t = Symbol('t', 'var * {id: int, name: string, amount: int}')\n",
    "amounts = Field(t, 'amount')\n",
    "amounts, amounts._inputs, amounts._args"
   ]
  },
  {
   "cell_type": "code",
   "execution_count": 19,
   "metadata": {
    "collapsed": false
   },
   "outputs": [
    {
     "data": {
      "text/plain": [
       "(23, 22)"
      ]
     },
     "execution_count": 19,
     "metadata": {},
     "output_type": "execute_result"
    }
   ],
   "source": [
    "import pandas as pd\n",
    "\n",
    "(23, ) + (22,)"
   ]
  },
  {
   "cell_type": "markdown",
   "metadata": {},
   "source": [
    "## Example of `path`"
   ]
  },
  {
   "cell_type": "markdown",
   "metadata": {},
   "source": [
    "Path provides a path of nodes from `a` to `b`. "
   ]
  },
  {
   "cell_type": "markdown",
   "metadata": {},
   "source": [
    "  ```python\n",
    "    >>> from blaze.expr import symbol\n",
    "    >>> t = symbol('t', 'var * {name: string, amount: int, id: int}')\n",
    "    >>> expr = t.amount.sum()\n",
    "    >>> list(path(expr, t))\n",
    "    [sum(t.amount), t.amount, t]```"
   ]
  },
  {
   "cell_type": "markdown",
   "metadata": {},
   "source": [
    "# Expressions.py"
   ]
  },
  {
   "cell_type": "markdown",
   "metadata": {},
   "source": [
    "This is the base class of all `Blaze` expressions such as `Join`, `Sort`, etc. There are also a number of important classes/functios here. \n",
    "\n",
    "| Class | Description \n",
    "-- | --\n",
    "Symbol | This is the leaf of a blaze expression. It inherets the `Expr` object. It's slots are `_name`, `dshape`, and `_token`. \n",
    "ElemWise | Parent of `Expr`. Used for Element wise operations. Only sets the dshape \n",
    "Field | This is a single field from an expression. Stored in the `_name` attribute. Based from elemwise. Allows us to get a single field via `points.x.dshape"
   ]
  },
  {
   "cell_type": "code",
   "execution_count": 25,
   "metadata": {
    "collapsed": false
   },
   "outputs": [
    {
     "data": {
      "text/plain": [
       "(blaze.expr.expressions.Field,\n",
       " dshape(\"5 * 3 * int32\"),\n",
       " datashape.coretypes.DataShape,\n",
       " None)"
      ]
     },
     "execution_count": 25,
     "metadata": {},
     "output_type": "execute_result"
    }
   ],
   "source": [
    "from blaze import symbol\n",
    "points = symbol('points', '5 * 3 * {x: int32, y: int32}')\n",
    "type(points.x), points.x.dshape, type(points.x.dshape), points._token"
   ]
  },
  {
   "cell_type": "markdown",
   "metadata": {},
   "source": [
    "## Expr object"
   ]
  },
  {
   "cell_type": "markdown",
   "metadata": {},
   "source": [
    "Base class of all expressions. "
   ]
  },
  {
   "cell_type": "markdown",
   "metadata": {},
   "source": [
    "# Misc "
   ]
  },
  {
   "cell_type": "markdown",
   "metadata": {},
   "source": [
    "The lower case operations work as follows\n",
    "\n",
    "```python\n",
    "@memoize(cache=_symbol_cache, key=_symbol_key)\n",
    "def symbol(name, dshape, token=None):\n",
    "    return Symbol(name, dshape, token=token)\n",
    "    \n",
    " ```"
   ]
  },
  {
   "cell_type": "markdown",
   "metadata": {},
   "source": [
    "# Questions"
   ]
  },
  {
   "cell_type": "markdown",
   "metadata": {},
   "source": [
    "1. What does `_token` do? It really seems to do nothing"
   ]
  }
 ],
 "metadata": {
  "kernelspec": {
   "display_name": "Python 3",
   "language": "python",
   "name": "python3"
  },
  "language_info": {
   "codemirror_mode": {
    "name": "ipython",
    "version": 3
   },
   "file_extension": ".py",
   "mimetype": "text/x-python",
   "name": "python",
   "nbconvert_exporter": "python",
   "pygments_lexer": "ipython3",
   "version": "3.4.3"
  }
 },
 "nbformat": 4,
 "nbformat_minor": 0
}
