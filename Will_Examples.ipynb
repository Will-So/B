{
 "cells": [
  {
   "cell_type": "markdown",
   "metadata": {},
   "source": [
    "# Lack of Docstrings "
   ]
  },
  {
   "cell_type": "code",
   "execution_count": null,
   "metadata": {
    "collapsed": true
   },
   "outputs": [],
   "source": [
    "from dask import array as da"
   ]
  },
  {
   "cell_type": "code",
   "execution_count": 8,
   "metadata": {
    "collapsed": true
   },
   "outputs": [],
   "source": [
    "import dask"
   ]
  },
  {
   "cell_type": "code",
   "execution_count": 7,
   "metadata": {
    "collapsed": true
   },
   "outputs": [],
   "source": [
    "?da"
   ]
  },
  {
   "cell_type": "code",
   "execution_count": 5,
   "metadata": {
    "collapsed": true
   },
   "outputs": [],
   "source": [
    "from numpy import array"
   ]
  },
  {
   "cell_type": "code",
   "execution_count": 6,
   "metadata": {
    "collapsed": true
   },
   "outputs": [],
   "source": [
    "?array"
   ]
  },
  {
   "cell_type": "markdown",
   "metadata": {},
   "source": [
    "Basic Module summary"
   ]
  },
  {
   "cell_type": "code",
   "execution_count": 6,
   "metadata": {
    "collapsed": false
   },
   "outputs": [
    {
     "data": {
      "text/plain": [
       "'SparkSQL backend for blaze.\\n\\nNotes\\n-----\\nTranslation happens via the Hive sqlalchemy dialect, which is then sent to\\nSparkSQL.\\n'"
      ]
     },
     "execution_count": 6,
     "metadata": {},
     "output_type": "execute_result"
    }
   ],
   "source": [
    "\"\"\"SparkSQL backend for blaze.\n",
    "\n",
    "Notes\n",
    "-----\n",
    "Translation happens via the Hive sqlalchemy dialect, which is then sent to\n",
    "SparkSQL.\n",
    "\"\"\""
   ]
  },
  {
   "cell_type": "markdown",
   "metadata": {},
   "source": [
    "# Towards out of core NDArrays "
   ]
  },
  {
   "cell_type": "code",
   "execution_count": 12,
   "metadata": {
    "collapsed": false
   },
   "outputs": [],
   "source": [
    "def inc(x):\n",
    "    return x + 1\n",
    "\n",
    "def add(x, y):\n",
    "    return x + y\n",
    "\n",
    "d = {'x': 1,\n",
    "     'y': (inc, 'x'),\n",
    "     'z': (add, 'y', 10)}"
   ]
  },
  {
   "cell_type": "code",
   "execution_count": 15,
   "metadata": {
    "collapsed": false
   },
   "outputs": [
    {
     "data": {
      "text/plain": [
       "2"
      ]
     },
     "execution_count": 15,
     "metadata": {},
     "output_type": "execute_result"
    }
   ],
   "source": [
    "dask.get(d, 'y')"
   ]
  },
  {
   "cell_type": "code",
   "execution_count": 20,
   "metadata": {
    "collapsed": false
   },
   "outputs": [],
   "source": [
    "import numpy as np"
   ]
  },
  {
   "cell_type": "code",
   "execution_count": 21,
   "metadata": {
    "collapsed": false
   },
   "outputs": [],
   "source": [
    "x = np.arange(24).reshape((4,6))"
   ]
  },
  {
   "cell_type": "code",
   "execution_count": 22,
   "metadata": {
    "collapsed": false
   },
   "outputs": [
    {
     "data": {
      "text/plain": [
       "array([[ 0,  1,  2,  3,  4,  5],\n",
       "       [ 6,  7,  8,  9, 10, 11],\n",
       "       [12, 13, 14, 15, 16, 17],\n",
       "       [18, 19, 20, 21, 22, 23]])"
      ]
     },
     "execution_count": 22,
     "metadata": {},
     "output_type": "execute_result"
    }
   ],
   "source": [
    "x"
   ]
  },
  {
   "cell_type": "code",
   "execution_count": 23,
   "metadata": {
    "collapsed": false
   },
   "outputs": [
    {
     "ename": "NameError",
     "evalue": "name 'ndget' is not defined",
     "output_type": "error",
     "traceback": [
      "\u001b[0;31m---------------------------------------------------------------------------\u001b[0m",
      "\u001b[0;31mNameError\u001b[0m                                 Traceback (most recent call last)",
      "\u001b[0;32m<ipython-input-23-bb525b28699c>\u001b[0m in \u001b[0;36m<module>\u001b[0;34m()\u001b[0m\n\u001b[0;32m----> 1\u001b[0;31m \u001b[0mndget\u001b[0m\u001b[0;34m\u001b[0m\u001b[0m\n\u001b[0m",
      "\u001b[0;31mNameError\u001b[0m: name 'ndget' is not defined"
     ]
    }
   ],
   "source": [
    "ndget"
   ]
  },
  {
   "cell_type": "markdown",
   "metadata": {},
   "source": [
    "# Blaze Getting started"
   ]
  },
  {
   "cell_type": "code",
   "execution_count": 24,
   "metadata": {
    "collapsed": true
   },
   "outputs": [],
   "source": [
    "from blaze import Symbol"
   ]
  },
  {
   "cell_type": "code",
   "execution_count": 25,
   "metadata": {
    "collapsed": true
   },
   "outputs": [],
   "source": [
    "accounts = Symbol('accounts', 'var * {id: int, name:string, amount: int}')"
   ]
  },
  {
   "cell_type": "code",
   "execution_count": 26,
   "metadata": {
    "collapsed": true
   },
   "outputs": [],
   "source": [
    "?Symbol"
   ]
  },
  {
   "cell_type": "markdown",
   "metadata": {},
   "source": [
    "# Understanding Functools"
   ]
  },
  {
   "cell_type": "code",
   "execution_count": 27,
   "metadata": {
    "collapsed": true
   },
   "outputs": [],
   "source": [
    "from functools import partial"
   ]
  },
  {
   "cell_type": "code",
   "execution_count": 28,
   "metadata": {
    "collapsed": true
   },
   "outputs": [],
   "source": [
    "basetwo = partial(int, base=2)"
   ]
  },
  {
   "cell_type": "code",
   "execution_count": 31,
   "metadata": {
    "collapsed": false
   },
   "outputs": [],
   "source": [
    "basetwo.__doc__ = 'Convert base 2 string to int'"
   ]
  },
  {
   "cell_type": "code",
   "execution_count": 32,
   "metadata": {
    "collapsed": false
   },
   "outputs": [
    {
     "data": {
      "text/plain": [
       "17"
      ]
     },
     "execution_count": 32,
     "metadata": {},
     "output_type": "execute_result"
    }
   ],
   "source": [
    "basetwo('10001')"
   ]
  },
  {
   "cell_type": "code",
   "execution_count": 33,
   "metadata": {
    "collapsed": false
   },
   "outputs": [
    {
     "ename": "TypeError",
     "evalue": "int() can't convert non-string with explicit base",
     "output_type": "error",
     "traceback": [
      "\u001b[0;31m---------------------------------------------------------------------------\u001b[0m",
      "\u001b[0;31mTypeError\u001b[0m                                 Traceback (most recent call last)",
      "\u001b[0;32m<ipython-input-33-19da190a82c6>\u001b[0m in \u001b[0;36m<module>\u001b[0;34m()\u001b[0m\n\u001b[0;32m----> 1\u001b[0;31m \u001b[0mbasetwo\u001b[0m\u001b[0;34m(\u001b[0m\u001b[0;36m1312\u001b[0m\u001b[0;34m)\u001b[0m\u001b[0;34m\u001b[0m\u001b[0m\n\u001b[0m",
      "\u001b[0;31mTypeError\u001b[0m: int() can't convert non-string with explicit base"
     ]
    }
   ],
   "source": [
    "basetwo(1312)"
   ]
  },
  {
   "cell_type": "code",
   "execution_count": 1,
   "metadata": {
    "collapsed": false
   },
   "outputs": [
    {
     "ename": "NameError",
     "evalue": "name 'Data' is not defined",
     "output_type": "error",
     "traceback": [
      "\u001b[0;31m---------------------------------------------------------------------------\u001b[0m",
      "\u001b[0;31mNameError\u001b[0m                                 Traceback (most recent call last)",
      "\u001b[0;32m<ipython-input-1-2be0169c77f4>\u001b[0m in \u001b[0;36m<module>\u001b[0;34m()\u001b[0m\n\u001b[0;32m----> 1\u001b[0;31m \u001b[0mx\u001b[0m \u001b[0;34m=\u001b[0m \u001b[0mData\u001b[0m\u001b[0;34m(\u001b[0m\u001b[0;36m1\u001b[0m\u001b[0;34m)\u001b[0m\u001b[0;34m\u001b[0m\u001b[0m\n\u001b[0m",
      "\u001b[0;31mNameError\u001b[0m: name 'Data' is not defined"
     ]
    }
   ],
   "source": [
    "x = Data(1)"
   ]
  },
  {
   "cell_type": "markdown",
   "metadata": {},
   "source": [
    "# Example "
   ]
  },
  {
   "cell_type": "code",
   "execution_count": 2,
   "metadata": {
    "collapsed": true
   },
   "outputs": [],
   "source": [
    "from blaze import Data"
   ]
  },
  {
   "cell_type": "code",
   "execution_count": 3,
   "metadata": {
    "collapsed": true
   },
   "outputs": [],
   "source": [
    "t = Data([(1, 'Alice', 100),\n",
    "           (2, 'Bob', -200),\n",
    "           (3, 'Charlie', 300),\n",
    "           (4, 'Denis', 400),\n",
    "           (5, 'Edith', -500)],\n",
    "          fields=['id', 'name', 'balance'])"
   ]
  },
  {
   "cell_type": "code",
   "execution_count": 5,
   "metadata": {
    "collapsed": false
   },
   "outputs": [
    {
     "data": {
      "text/plain": [
       "blaze.interactive.InteractiveSymbol"
      ]
     },
     "execution_count": 5,
     "metadata": {},
     "output_type": "execute_result"
    }
   ],
   "source": [
    "type(t)"
   ]
  },
  {
   "cell_type": "markdown",
   "metadata": {},
   "source": [
    "# Apply-Split-Combine Pandas"
   ]
  },
  {
   "cell_type": "code",
   "execution_count": null,
   "metadata": {
    "collapsed": true
   },
   "outputs": [],
   "source": []
  },
  {
   "cell_type": "markdown",
   "metadata": {},
   "source": [
    "# Blah "
   ]
  },
  {
   "cell_type": "code",
   "execution_count": 8,
   "metadata": {
    "collapsed": false
   },
   "outputs": [],
   "source": [
    "from __future__ import absolute_import, division, print_function\n",
    "\n",
    "from datetime import datetime\n",
    "from decimal import Decimal\n",
    "\n",
    "import sqlalchemy as sa\n",
    "import sqlalchemy.orm\n",
    "from toolz import curry\n",
    "from datashape.predicates import isrecord\n",
    "from blaze.expr import Field\n",
    "from odo.backends.sql import dshape_to_alchemy\n",
    "\n",
    "# This was taken from the following StackOverflow post\n",
    "# http://stackoverflow.com/questions/5631078/sqlalchemy-print-the-actual-query\n",
    "# answer by bukzor http://stackoverflow.com/users/146821/bukzor\n",
    "\n",
    "\n",
    "def literalquery(statement, dialect=None):\n",
    "    \"\"\"Generate an SQL expression string with bound parameters rendered inline\n",
    "    for the given SQLAlchemy statement.\n",
    "\n",
    "    WARNING: This method of escaping is insecure, incomplete, and for debugging\n",
    "    purposes only. Executing SQL statements with inline-rendered user values is\n",
    "    extremely insecure.\n",
    "    \"\"\"\n",
    "    if isinstance(statement, sqlalchemy.orm.Query):\n",
    "        if dialect is None:\n",
    "            dialect = statement.session.get_bind(\n",
    "                statement._mapper_zero_or_none()\n",
    "            ).dialect\n",
    "        statement = statement.statement\n",
    "    if dialect is None:\n",
    "        dialect = getattr(statement.bind, 'dialect', None)\n",
    "    if dialect is None:\n",
    "        from sqlalchemy.dialects import mysql\n",
    "        dialect = mysql.dialect()\n",
    "\n",
    "    Compiler = type(statement._compiler(dialect))\n",
    "\n",
    "    class LiteralCompiler(Compiler):\n",
    "        visit_bindparam = Compiler.render_literal_bindparam\n",
    "\n",
    "        def render_literal_value(self, value, type_):\n",
    "            if isinstance(value, (Decimal, long)):\n",
    "                return str(value)\n",
    "            elif isinstance(value, datetime):\n",
    "                return repr(str(value))\n",
    "            else:  # fallback\n",
    "                value = super(LiteralCompiler, self).render_literal_value(\n",
    "                    value, type_,\n",
    "                )\n",
    "                if isinstance(value, unicode):\n",
    "                    return value.encode('UTF-8')\n",
    "                else:\n",
    "                    return value\n",
    "\n",
    "    return LiteralCompiler(dialect, statement)\n"
   ]
  },
  {
   "cell_type": "code",
   "execution_count": 19,
   "metadata": {
    "collapsed": false
   },
   "outputs": [
    {
     "ename": "NameError",
     "evalue": "name 'HiveDialect' is not defined",
     "output_type": "error",
     "traceback": [
      "\u001b[0;31m---------------------------------------------------------------------------\u001b[0m",
      "\u001b[0;31mNameError\u001b[0m                                 Traceback (most recent call last)",
      "\u001b[0;32m<ipython-input-19-2ce62644b0a5>\u001b[0m in \u001b[0;36m<module>\u001b[0;34m()\u001b[0m\n\u001b[0;32m----> 1\u001b[0;31m \u001b[0mliteralquery\u001b[0m\u001b[0;34m(\u001b[0m\u001b[0;34m\"test\"\u001b[0m\u001b[0;34m,\u001b[0m \u001b[0mHiveDialect\u001b[0m\u001b[0;34m(\u001b[0m\u001b[0;34m)\u001b[0m\u001b[0;34m)\u001b[0m\u001b[0;34m\u001b[0m\u001b[0m\n\u001b[0m",
      "\u001b[0;31mNameError\u001b[0m: name 'HiveDialect' is not defined"
     ]
    }
   ],
   "source": [
    "literalquery(\"test\", HiveDialect())"
   ]
  },
  {
   "cell_type": "code",
   "execution_count": 17,
   "metadata": {
    "collapsed": false
   },
   "outputs": [
    {
     "name": "stdout",
     "output_type": "stream",
     "text": [
      "/Users/Will/Devel/blaze-tutorial\r\n"
     ]
    }
   ],
   "source": [
    "!pwd"
   ]
  },
  {
   "cell_type": "code",
   "execution_count": 16,
   "metadata": {
    "collapsed": false
   },
   "outputs": [
    {
     "ename": "ImportError",
     "evalue": "cannot import name istable",
     "output_type": "error",
     "traceback": [
      "\u001b[0;31m---------------------------------------------------------------------------\u001b[0m",
      "\u001b[0;31mImportError\u001b[0m                               Traceback (most recent call last)",
      "\u001b[0;32m<ipython-input-16-ce6ea9b4de7f>\u001b[0m in \u001b[0;36m<module>\u001b[0;34m()\u001b[0m\n\u001b[1;32m      6\u001b[0m \u001b[0;32mfrom\u001b[0m \u001b[0mblaze\u001b[0m \u001b[0;32mimport\u001b[0m \u001b[0mcompute\u001b[0m\u001b[0;34m\u001b[0m\u001b[0m\n\u001b[1;32m      7\u001b[0m \u001b[0;32mfrom\u001b[0m \u001b[0mblaze\u001b[0m\u001b[0;34m.\u001b[0m\u001b[0mcompute\u001b[0m\u001b[0;34m.\u001b[0m\u001b[0mspark\u001b[0m \u001b[0;32mimport\u001b[0m \u001b[0mDummy\u001b[0m\u001b[0;34m\u001b[0m\u001b[0m\n\u001b[0;32m----> 8\u001b[0;31m \u001b[0;32mfrom\u001b[0m \u001b[0mblaze\u001b[0m\u001b[0;34m.\u001b[0m\u001b[0mcompute\u001b[0m\u001b[0;34m.\u001b[0m\u001b[0mutils\u001b[0m \u001b[0;32mimport\u001b[0m \u001b[0mliteralquery\u001b[0m\u001b[0;34m,\u001b[0m \u001b[0mistable\u001b[0m\u001b[0;34m,\u001b[0m \u001b[0mmake_sqlalchemy_table\u001b[0m\u001b[0;34m\u001b[0m\u001b[0m\n\u001b[0m\u001b[1;32m      9\u001b[0m \u001b[0;34m\u001b[0m\u001b[0m\n\u001b[1;32m     10\u001b[0m \u001b[0;34m\u001b[0m\u001b[0m\n",
      "\u001b[0;31mImportError\u001b[0m: cannot import name istable"
     ]
    }
   ],
   "source": [
    "from toolz import pipe\n",
    "from toolz.curried import filter, map\n",
    "\n",
    "from blaze.dispatch import dispatch\n",
    "from blaze.expr import Expr, symbol\n",
    "from blaze import compute\n",
    "from blaze.compute.spark import Dummy\n",
    "from blaze.compute.utils import literalquery, istable, make_sqlalchemy_table\n",
    "\n",
    "\n",
    "__all__ = []\n",
    "\n",
    "\n",
    "try:\n",
    "    from pyspark import SQLContext\n",
    "    from pyhive.sqlalchemy_hive import HiveDialect\n",
    "except ImportError:\n",
    "    SQLContext = Dummy\n",
    "\n",
    "\n",
    "@dispatch(Expr, SQLContext)\n",
    "def compute_down(expr, data, **kwargs):\n",
    "    \"\"\" Compile a blaze expression to a sparksql expression\"\"\"\n",
    "    leaves = expr._leaves()\n",
    "\n",
    "    # make sure we only have a single leaf node\n",
    "    if len(leaves) != 1:\n",
    "        raise ValueError('Must compile from exactly one root database')\n",
    "\n",
    "    leaf, = leaves\n",
    "\n",
    "    # field expressions on the database are Field instances with a record\n",
    "    # measure whose immediate child is the database leaf\n",
    "    tables = pipe(expr._subterms(), filter(istable(leaf)), list)\n",
    "\n",
    "    # raise if we don't have tables in our database\n",
    "    if not tables:\n",
    "        raise ValueError('Expressions not referencing a table cannot be '\n",
    "                         'compiled')\n",
    "\n",
    "    # make new symbols for each table\n",
    "    new_leaves = [symbol(t._name, t.dshape) for t in tables]\n",
    "\n",
    "    # sub them in the expression\n",
    "    expr = expr._subs(dict(zip(tables, new_leaves)))\n",
    "\n",
    "    # compute using sqlalchemy\n",
    "    scope = dict(zip(new_leaves, map(make_sqlalchemy_table, tables)))\n",
    "    query = compute(expr, scope)\n",
    "\n",
    "    # interpolate params\n",
    "    compiled = literalquery(query, dialect=HiveDialect())\n",
    "    return data.sql(str(compiled))\n"
   ]
  },
  {
   "cell_type": "code",
   "execution_count": null,
   "metadata": {
    "collapsed": true
   },
   "outputs": [],
   "source": []
  }
 ],
 "metadata": {
  "kernelspec": {
   "display_name": "Python 2",
   "language": "python",
   "name": "python2"
  },
  "language_info": {
   "codemirror_mode": {
    "name": "ipython",
    "version": 2
   },
   "file_extension": ".py",
   "mimetype": "text/x-python",
   "name": "python",
   "nbconvert_exporter": "python",
   "pygments_lexer": "ipython2",
   "version": "2.7.6"
  }
 },
 "nbformat": 4,
 "nbformat_minor": 0
}
