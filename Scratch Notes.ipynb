{
 "cells": [
  {
   "cell_type": "markdown",
   "metadata": {},
   "source": [
    "# Not Important Slicing"
   ]
  },
  {
   "cell_type": "code",
   "execution_count": null,
   "metadata": {
    "collapsed": true
   },
   "outputs": [],
   "source": [
    "import pandas.util.testing as tm\n",
    "\n",
    "def test_frame_slice(df):\n",
    "    tm.assert_series_equal(compute(t[0], df), df.iloc[0])\n",
    "    tm.assert_series_equal(compute(t[2], df), df.iloc[2])\n",
    "    tm.assert_frame_equal(compute(t[:2], df), df.iloc[:2])\n",
    "    tm.assert_frame_equal(compute(t[1:3], df), df.iloc[1:3])\n",
    "    tm.assert_frame_equal(compute(t[1::2], df), df.iloc[1::2])\n",
    "    tm.assert_frame_equal(compute(t[[2, 0]], df), df.iloc[[2, 0]])\n",
    "\n",
    "\n",
    "def test_series_slice(df):\n",
    "    assert compute(t.amount[0], df) == df.amount.iloc[0]\n",
    "    assert compute(t.amount[2], df) == df.amount.iloc[2]\n",
    "    tm.assert_series_equal(compute(t.amount[:2], df), df.amount.iloc[:2])\n",
    "    tm.assert_series_equal(compute(t.amount[1:3], df), df.amount.iloc[1:3])\n",
    "    tm.assert_series_equal(compute(t.amount[1::2], df), df.amount.iloc[1::2])"
   ]
  },
  {
   "cell_type": "code",
   "execution_count": null,
   "metadata": {
    "collapsed": true
   },
   "outputs": [],
   "source": [
    "df1 = pd.DataFrame([['Alice', 100, 1],\n",
    "                ['Bob', 200, 2],\n",
    "                ['Alice', 50, 3]], columns=['name', 'amount', 'id'])\n"
   ]
  }
 ],
 "metadata": {
  "kernelspec": {
   "display_name": "Python 3",
   "language": "python",
   "name": "python3"
  },
  "language_info": {
   "codemirror_mode": {
    "name": "ipython",
    "version": 3
   },
   "file_extension": ".py",
   "mimetype": "text/x-python",
   "name": "python",
   "nbconvert_exporter": "python",
   "pygments_lexer": "ipython3",
   "version": "3.4.3"
  }
 },
 "nbformat": 4,
 "nbformat_minor": 0
}
