{
 "cells": [
  {
   "cell_type": "markdown",
   "metadata": {},
   "source": [
    "# Introduction"
   ]
  },
  {
   "cell_type": "markdown",
   "metadata": {},
   "source": [
    "This notebook includes useful facts about SQLAlchemy"
   ]
  },
  {
   "cell_type": "markdown",
   "metadata": {},
   "source": [
    "# Understanding SQLAlchemy expressions"
   ]
  },
  {
   "cell_type": "markdown",
   "metadata": {},
   "source": [
    "Object | Description\n",
    "-- | --\n",
    "ClauseElement | Base case for every SQLAlchemy expression.\n",
    "ColumnElement | Includes things like columns and any funciton on columns. Fundamental unit used to construct any kind of typed SQL expression.\n",
    "Selectable | Anything that can show up in a select Statement\n",
    "Select | Represents a [select](http://docs.sqlalchemy.org/en/latest/core/selectable.html#sqlalchemy.sql.expression.Select) statement"
   ]
  },
  {
   "cell_type": "markdown",
   "metadata": {
    "collapsed": true
   },
   "source": [
    "# Why Bulk inserting is so slow"
   ]
  },
  {
   "cell_type": "markdown",
   "metadata": {},
   "source": [
    "[Here](http://docs.sqlalchemy.org/en/latest/faq/performance.html#i-m-inserting-400-000-rows-with-the-orm-and-it-s-really-slow) is the explanation in documentation. \n",
    "\n",
    "Using the `core` you can produce insert and update constructs with a speed as fast of "
   ]
  },
  {
   "cell_type": "code",
   "execution_count": null,
   "metadata": {
    "collapsed": true
   },
   "outputs": [],
   "source": [
    "def test_sqlalchemy_core(n=100000):\n",
    "    init_sqlalchemy()\n",
    "    t0 = time.time()\n",
    "    engine.execute(\n",
    "        Customer.__table__.insert(),\n",
    "        [{\"name\": 'NAME ' + str(i)} for i in xrange(n)]\n",
    "    )\n",
    "    print(\n",
    "        \"SQLAlchemy Core: Total time for \" + str(n) +\n",
    "        \" records \" + str(time.time() - t0) + \" secs\")bmb"
   ]
  },
  {
   "cell_type": "markdown",
   "metadata": {},
   "source": [
    "```LAlchemy ORM bulk_save_objects(): Total time for 100000 records 0.856323003769 secs\n",
    "SQLAlchemy Core: Total time for 100000 records 0.485800027847 secs\n",
    "sqlite3: Total time for 100000 records 0.487842082977 sec```"
   ]
  },
  {
   "cell_type": "code",
   "execution_count": null,
   "metadata": {
    "collapsed": true
   },
   "outputs": [],
   "source": []
  }
 ],
 "metadata": {
  "kernelspec": {
   "display_name": "Python 3",
   "language": "python",
   "name": "python3"
  },
  "language_info": {
   "codemirror_mode": {
    "name": "ipython",
    "version": 3
   },
   "file_extension": ".py",
   "mimetype": "text/x-python",
   "name": "python",
   "nbconvert_exporter": "python",
   "pygments_lexer": "ipython3",
   "version": "3.4.3"
  }
 },
 "nbformat": 4,
 "nbformat_minor": 0
}
